{
 "cells": [
  {
   "cell_type": "markdown",
   "id": "6ca5f3dc-f217-46bd-b088-4dc0ef0cdf9b",
   "metadata": {},
   "source": [
    "#### \"Prediksi Risiko Penyakit Jantung Menggunakan Algoritma Klasifikasi\""
   ]
  },
  {
   "cell_type": "markdown",
   "id": "f00dc507-aa7e-4fe9-9142-9198e253bdf4",
   "metadata": {},
   "source": [
    "##### 1. Pengumpulan Data"
   ]
  },
  {
   "cell_type": "code",
   "execution_count": 1,
   "id": "52623934-2064-43e5-b640-7b95042e813e",
   "metadata": {},
   "outputs": [
    {
     "name": "stdout",
     "output_type": "stream",
     "text": [
      "   age  sex  cp  trestbps  chol  fbs  restecg  thalach  exang  oldpeak  slope  \\\n",
      "0   52    1   0       125   212    0        1      168      0      1.0      2   \n",
      "1   53    1   0       140   203    1        0      155      1      3.1      0   \n",
      "2   70    1   0       145   174    0        1      125      1      2.6      0   \n",
      "3   61    1   0       148   203    0        1      161      0      0.0      2   \n",
      "4   62    0   0       138   294    1        1      106      0      1.9      1   \n",
      "\n",
      "   ca  thal  target  \n",
      "0   2     3       0  \n",
      "1   0     3       0  \n",
      "2   0     3       0  \n",
      "3   1     3       0  \n",
      "4   3     2       0  \n"
     ]
    }
   ],
   "source": [
    "import pandas as pd\n",
    "\n",
    "# Mengunduh dan membaca dataset\n",
    "data = pd.read_csv('Heart_Disease_Classification_Dataset.csv')  # Ganti dengan path file Anda\n",
    "\n",
    "# Menampilkan beberapa baris pertama dari dataset\n",
    "print(data.head())\n"
   ]
  },
  {
   "cell_type": "markdown",
   "id": "3c27d064-7e96-4409-b402-3905be9fad18",
   "metadata": {},
   "source": [
    "- Kode ini mengimpor pustaka pandas dan membaca dataset dari file CSV. Kemudian, menampilkan lima baris pertama dari dataset untuk memahami strukturnya."
   ]
  },
  {
   "cell_type": "markdown",
   "id": "8408eb6c-84db-404f-94a6-6e25455b5e49",
   "metadata": {},
   "source": [
    "##### 2. Preprocessing Data"
   ]
  },
  {
   "cell_type": "code",
   "execution_count": 2,
   "id": "4ab64342-cfba-4141-877e-008b6b791768",
   "metadata": {},
   "outputs": [
    {
     "name": "stdout",
     "output_type": "stream",
     "text": [
      "age         0\n",
      "sex         0\n",
      "cp          0\n",
      "trestbps    0\n",
      "chol        0\n",
      "fbs         0\n",
      "restecg     0\n",
      "thalach     0\n",
      "exang       0\n",
      "oldpeak     0\n",
      "slope       0\n",
      "ca          0\n",
      "thal        0\n",
      "target      0\n",
      "dtype: int64\n",
      "<class 'pandas.core.frame.DataFrame'>\n",
      "RangeIndex: 1025 entries, 0 to 1024\n",
      "Data columns (total 14 columns):\n",
      " #   Column    Non-Null Count  Dtype  \n",
      "---  ------    --------------  -----  \n",
      " 0   age       1025 non-null   int64  \n",
      " 1   sex       1025 non-null   int64  \n",
      " 2   cp        1025 non-null   int64  \n",
      " 3   trestbps  1025 non-null   float64\n",
      " 4   chol      1025 non-null   float64\n",
      " 5   fbs       1025 non-null   int64  \n",
      " 6   restecg   1025 non-null   int64  \n",
      " 7   thalach   1025 non-null   int64  \n",
      " 8   exang     1025 non-null   int64  \n",
      " 9   oldpeak   1025 non-null   float64\n",
      " 10  slope     1025 non-null   int64  \n",
      " 11  ca        1025 non-null   int64  \n",
      " 12  thal      1025 non-null   int64  \n",
      " 13  target    1025 non-null   int64  \n",
      "dtypes: float64(3), int64(11)\n",
      "memory usage: 112.2 KB\n",
      "None\n"
     ]
    }
   ],
   "source": [
    "# Memeriksa nilai yang hilang\n",
    "print(data.isnull().sum())\n",
    "\n",
    "# Menghapus baris dengan nilai yang hilang (jika ada)\n",
    "data.dropna(inplace=True)\n",
    "\n",
    "# Normalisasi fitur (contoh: kolesterol dan tekanan darah)\n",
    "from sklearn.preprocessing import MinMaxScaler\n",
    "\n",
    "scaler = MinMaxScaler()\n",
    "data[['chol', 'trestbps']] = scaler.fit_transform(data[['chol', 'trestbps']])\n",
    "\n",
    "# Menampilkan informasi dataset setelah preprocessing\n",
    "print(data.info())\n"
   ]
  },
  {
   "cell_type": "markdown",
   "id": "b6f74f14-a882-4592-900c-9c5bbe885060",
   "metadata": {},
   "source": [
    "- Memeriksa apakah ada nilai yang hilang dalam dataset. Jika ada, baris tersebut dihapus. Kemudian, fitur kolesterol dan tekanan darah dinormalisasi ke rentang 0-1 menggunakan MinMaxScaler. Terakhir, informasi dataset ditampilkan untuk memastikan tidak ada nilai yang hilang."
   ]
  },
  {
   "cell_type": "markdown",
   "id": "5f572b81-6f56-4e8c-93b6-79d145ffadd6",
   "metadata": {},
   "source": [
    "##### 3. Pemilihan Algoritma Klasifikasi"
   ]
  },
  {
   "cell_type": "code",
   "execution_count": 3,
   "id": "ef1bba1b-7baf-4898-8f91-06a59423d449",
   "metadata": {},
   "outputs": [],
   "source": [
    "from sklearn.model_selection import train_test_split\n",
    "from sklearn.neighbors import KNeighborsClassifier\n",
    "\n",
    "# Memisahkan fitur dan target\n",
    "X = data.drop('target', axis=1)  # Fitur\n",
    "y = data['target']  # Target\n",
    "\n",
    "# Membagi data menjadi data pelatihan dan pengujian\n",
    "X_train, X_test, y_train, y_test = train_test_split(X, y, test_size=0.2, random_state=42)"
   ]
  },
  {
   "cell_type": "markdown",
   "id": "9b7a9c0e-3ac2-4a4e-b32c-793cb1e266f1",
   "metadata": {},
   "source": [
    "- Memisahkan dataset menjadi fitur (X) dan target (y). Kemudian, data dibagi menjadi data pelatihan dan pengujian dengan proporsi 80% untuk pelatihan dan 20% untuk pengujian."
   ]
  }
 ],
 "metadata": {
  "kernelspec": {
   "display_name": "Python 3 (ipykernel)",
   "language": "python",
   "name": "python3"
  },
  "language_info": {
   "codemirror_mode": {
    "name": "ipython",
    "version": 3
   },
   "file_extension": ".py",
   "mimetype": "text/x-python",
   "name": "python",
   "nbconvert_exporter": "python",
   "pygments_lexer": "ipython3",
   "version": "3.12.6"
  }
 },
 "nbformat": 4,
 "nbformat_minor": 5
}
